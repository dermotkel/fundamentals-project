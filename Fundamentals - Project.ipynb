{
 "cells": [
  {
   "cell_type": "markdown",
   "metadata": {},
   "source": [
    "## Exploratory Data Analysis\n",
    "\n",
    "### Detective and Trial Comparison\n",
    "\n",
    "### Key elements of EDA\n",
    "\n",
    "#### visualisation of data\n",
    "\n",
    "beginning, best to plot data directly, like stem abd leaf plot or dotplot as opposed to sumarries like boxplot (Behrens, p.137)\n",
    "\n",
    "#### iterative process \n",
    "\n",
    "data = fit + residual \n",
    "\n",
    "fit a model to the data (summarise), but no model fits perfectyly leaving a residual \n",
    "\n",
    "the boxplot shos the fir (median) but also the residual, ddviations, in particular outlers which are not explained by the mean \n",
    "\n",
    "(Behrens, p.140)\n",
    "\n",
    "cyclical process of attempting to fit a model, observe for residuals and then improve model \n",
    "\n",
    "#### robust statistics\n",
    "\n",
    "median, not as affected by outliers also helps identify outliers \n",
    "\n",
    "mean can be misleading \n",
    "\n",
    "#### outliers\n",
    "\n",
    "\n",
    "### Five Number Sumarry \n",
    "\n",
    "### boxplot\n"
   ]
  },
  {
   "cell_type": "code",
   "execution_count": null,
   "metadata": {},
   "outputs": [],
   "source": []
  },
  {
   "cell_type": "code",
   "execution_count": null,
   "metadata": {},
   "outputs": [],
   "source": []
  },
  {
   "cell_type": "code",
   "execution_count": null,
   "metadata": {},
   "outputs": [],
   "source": []
  },
  {
   "cell_type": "markdown",
   "metadata": {},
   "source": [
    "### Stem and Leaf Plot "
   ]
  },
  {
   "cell_type": "code",
   "execution_count": 14,
   "metadata": {},
   "outputs": [],
   "source": [
    "import numpy as np\n",
    "import pandas as pd \n",
    "import stemgraphic\n",
    "import matplotlib.pyplot as plt\n",
    "https://stackoverflow.com/questions/45655321/is-there-a-pandas-function-for-creating-a-stem-and-leaf-plot/45656792#45656792\n"
   ]
  },
  {
   "cell_type": "code",
   "execution_count": 10,
   "metadata": {},
   "outputs": [
    {
     "name": "stdout",
     "output_type": "stream",
     "text": [
      "0     94\n",
      "1     19\n",
      "2     72\n",
      "3      1\n",
      "4      4\n",
      "5     15\n",
      "6      4\n",
      "7     36\n",
      "8     15\n",
      "9     55\n",
      "10    75\n",
      "11    50\n",
      "12     9\n",
      "13    95\n",
      "14    28\n",
      "15     4\n",
      "16    49\n",
      "17    17\n",
      "18    84\n",
      "19    37\n",
      "20    84\n",
      "21    25\n",
      "22    81\n",
      "23    28\n",
      "24    74\n",
      "25    27\n",
      "26    48\n",
      "27    67\n",
      "28     7\n",
      "29    32\n",
      "30    79\n",
      "31     2\n",
      "32    17\n",
      "33    44\n",
      "34     4\n",
      "35    92\n",
      "36     4\n",
      "37    48\n",
      "38     5\n",
      "39    52\n",
      "40    28\n",
      "41    27\n",
      "42    63\n",
      "43    67\n",
      "44    84\n",
      "45    81\n",
      "46    50\n",
      "47    77\n",
      "48    29\n",
      "49    79\n",
      "dtype: int32\n"
     ]
    }
   ],
   "source": [
    "x = np.random.randint(100, size=50)\n",
    "y = pd.Series(x)\n",
    "print(y)"
   ]
  },
  {
   "cell_type": "code",
   "execution_count": null,
   "metadata": {},
   "outputs": [],
   "source": []
  },
  {
   "cell_type": "code",
   "execution_count": 15,
   "metadata": {},
   "outputs": [
    {
     "name": "stderr",
     "output_type": "stream",
     "text": [
      "C:\\Users\\dermotkel\\Anaconda3\\lib\\site-packages\\matplotlib\\figure.py:2267: UserWarning: This figure includes Axes that are not compatible with tight_layout, so results might be incorrect.\n",
      "  warnings.warn(\"This figure includes Axes that are not compatible \"\n"
     ]
    },
    {
     "data": {
      "image/png": "[encoded data removed]",
      "text/plain": [
       "<Figure size 540x234 with 1 Axes>"
      ]
     },
     "metadata": {},
     "output_type": "display_data"
    }
   ],
   "source": [
    "fig, ax = stemgraphic.stem_graphic(y)\n",
    "plt.savefig('fig.png',bbox_inches='tight') "
   ]
  },
  {
   "cell_type": "code",
   "execution_count": 9,
   "metadata": {},
   "outputs": [],
   "source": [
    "import pandas as pd\n",
    "import numpy as np\n",
    "import matplotlib.pyplot as plt\n",
    "import seaborn as sns \n",
    "\n",
    "df = pd.read_csv(\"https://raw.githubusercontent.com/dermotkel/fundamentals-project/master/white-house-salaries.csv\", sep=\";\")\n",
    "\n"
   ]
  },
  {
   "cell_type": "code",
   "execution_count": 3,
   "metadata": {},
   "outputs": [
    {
     "data": {
      "text/html": [
       "<div>\n",
       "<style scoped>\n",
       "    .dataframe tbody tr th:only-of-type {\n",
       "        vertical-align: middle;\n",
       "    }\n",
       "\n",
       "    .dataframe tbody tr th {\n",
       "        vertical-align: top;\n",
       "    }\n",
       "\n",
       "    .dataframe thead th {\n",
       "        text-align: right;\n",
       "    }\n",
       "</style>\n",
       "<table border=\"1\" class=\"dataframe\">\n",
       "  <thead>\n",
       "    <tr style=\"text-align: right;\">\n",
       "      <th></th>\n",
       "      <th>Employee Name</th>\n",
       "      <th>Salary</th>\n",
       "      <th>Position</th>\n",
       "      <th>Year</th>\n",
       "      <th>Status</th>\n",
       "      <th>Party</th>\n",
       "      <th>President</th>\n",
       "      <th>Term</th>\n",
       "      <th>Gender</th>\n",
       "    </tr>\n",
       "  </thead>\n",
       "  <tbody>\n",
       "    <tr>\n",
       "      <th>0</th>\n",
       "      <td>Blount, Mallory N</td>\n",
       "      <td>40000.0</td>\n",
       "      <td>Associate Director</td>\n",
       "      <td>2017</td>\n",
       "      <td>Employee</td>\n",
       "      <td>Republican</td>\n",
       "      <td>Trump</td>\n",
       "      <td>First</td>\n",
       "      <td>Female</td>\n",
       "    </tr>\n",
       "    <tr>\n",
       "      <th>1</th>\n",
       "      <td>Cairn Cross, Sean S</td>\n",
       "      <td>165000.0</td>\n",
       "      <td>Deputy Assistant To The President And Senior A...</td>\n",
       "      <td>2017</td>\n",
       "      <td>Employee</td>\n",
       "      <td>Republican</td>\n",
       "      <td>Trump</td>\n",
       "      <td>First</td>\n",
       "      <td>Male</td>\n",
       "    </tr>\n",
       "    <tr>\n",
       "      <th>2</th>\n",
       "      <td>Delahoyde, Magdelana A</td>\n",
       "      <td>70000.0</td>\n",
       "      <td>Executive Assistant</td>\n",
       "      <td>2017</td>\n",
       "      <td>Employee</td>\n",
       "      <td>Republican</td>\n",
       "      <td>Trump</td>\n",
       "      <td>First</td>\n",
       "      <td>Female</td>\n",
       "    </tr>\n",
       "    <tr>\n",
       "      <th>3</th>\n",
       "      <td>Duke, Hannah A</td>\n",
       "      <td>62000.0</td>\n",
       "      <td>Deputy Associate Director</td>\n",
       "      <td>2017</td>\n",
       "      <td>Employee</td>\n",
       "      <td>Republican</td>\n",
       "      <td>Trump</td>\n",
       "      <td>First</td>\n",
       "      <td>Female</td>\n",
       "    </tr>\n",
       "    <tr>\n",
       "      <th>4</th>\n",
       "      <td>Fein Berg, Rebecca P</td>\n",
       "      <td>62000.0</td>\n",
       "      <td>Deputy Associate Director</td>\n",
       "      <td>2017</td>\n",
       "      <td>Employee</td>\n",
       "      <td>Republican</td>\n",
       "      <td>Trump</td>\n",
       "      <td>First</td>\n",
       "      <td>Male</td>\n",
       "    </tr>\n",
       "  </tbody>\n",
       "</table>\n",
       "</div>"
      ],
      "text/plain": [
       "            Employee Name    Salary  \\\n",
       "0       Blount, Mallory N   40000.0   \n",
       "1     Cairn Cross, Sean S  165000.0   \n",
       "2  Delahoyde, Magdelana A   70000.0   \n",
       "3          Duke, Hannah A   62000.0   \n",
       "4    Fein Berg, Rebecca P   62000.0   \n",
       "\n",
       "                                            Position  Year    Status  \\\n",
       "0                                 Associate Director  2017  Employee   \n",
       "1  Deputy Assistant To The President And Senior A...  2017  Employee   \n",
       "2                                Executive Assistant  2017  Employee   \n",
       "3                          Deputy Associate Director  2017  Employee   \n",
       "4                          Deputy Associate Director  2017  Employee   \n",
       "\n",
       "        Party President   Term  Gender  \n",
       "0  Republican     Trump  First  Female  \n",
       "1  Republican     Trump  First    Male  \n",
       "2  Republican     Trump  First  Female  \n",
       "3  Republican     Trump  First  Female  \n",
       "4  Republican     Trump  First    Male  "
      ]
     },
     "execution_count": 3,
     "metadata": {},
     "output_type": "execute_result"
    }
   ],
   "source": [
    "df.head()"
   ]
  },
  {
   "cell_type": "code",
   "execution_count": 12,
   "metadata": {},
   "outputs": [
    {
     "data": {
      "image/png": "[encoded data removed]",
      "text/plain": [
       "<Figure size 432x288 with 1 Axes>"
      ]
     },
     "metadata": {},
     "output_type": "display_data"
    }
   ],
   "source": [
    "plt.boxplot(df['Salary'], showmeans=True)\n",
    "plt.show()"
   ]
  },
  {
   "cell_type": "code",
   "execution_count": 14,
   "metadata": {},
   "outputs": [
    {
     "data": {
      "image/png": "[encoded data removed]",
      "text/plain": [
       "<Figure size 432x288 with 1 Axes>"
      ]
     },
     "metadata": {},
     "output_type": "display_data"
    }
   ],
   "source": [
    "sns.swarmplot(df['Salary'])\n",
    "plt.show()"
   ]
  },
  {
   "cell_type": "code",
   "execution_count": 15,
   "metadata": {},
   "outputs": [
    {
     "data": {
      "image/png": "[encoded data removed]",
      "text/plain": [
       "<Figure size 432x288 with 1 Axes>"
      ]
     },
     "metadata": {},
     "output_type": "display_data"
    }
   ],
   "source": [
    "plt.hist(df['Salary'])\n",
    "plt.show()"
   ]
  },
  {
   "cell_type": "code",
   "execution_count": 16,
   "metadata": {},
   "outputs": [
    {
     "data": {
      "text/html": [
       "<div>\n",
       "<style scoped>\n",
       "    .dataframe tbody tr th:only-of-type {\n",
       "        vertical-align: middle;\n",
       "    }\n",
       "\n",
       "    .dataframe tbody tr th {\n",
       "        vertical-align: top;\n",
       "    }\n",
       "\n",
       "    .dataframe thead th {\n",
       "        text-align: right;\n",
       "    }\n",
       "</style>\n",
       "<table border=\"1\" class=\"dataframe\">\n",
       "  <thead>\n",
       "    <tr style=\"text-align: right;\">\n",
       "      <th></th>\n",
       "      <th>Salary</th>\n",
       "      <th>Year</th>\n",
       "    </tr>\n",
       "  </thead>\n",
       "  <tbody>\n",
       "    <tr>\n",
       "      <th>count</th>\n",
       "      <td>377.000000</td>\n",
       "      <td>377.0</td>\n",
       "    </tr>\n",
       "    <tr>\n",
       "      <th>mean</th>\n",
       "      <td>94872.000000</td>\n",
       "      <td>2017.0</td>\n",
       "    </tr>\n",
       "    <tr>\n",
       "      <th>std</th>\n",
       "      <td>43112.357821</td>\n",
       "      <td>0.0</td>\n",
       "    </tr>\n",
       "    <tr>\n",
       "      <th>min</th>\n",
       "      <td>0.000000</td>\n",
       "      <td>2017.0</td>\n",
       "    </tr>\n",
       "    <tr>\n",
       "      <th>25%</th>\n",
       "      <td>56000.000000</td>\n",
       "      <td>2017.0</td>\n",
       "    </tr>\n",
       "    <tr>\n",
       "      <th>50%</th>\n",
       "      <td>89000.000000</td>\n",
       "      <td>2017.0</td>\n",
       "    </tr>\n",
       "    <tr>\n",
       "      <th>75%</th>\n",
       "      <td>119000.000000</td>\n",
       "      <td>2017.0</td>\n",
       "    </tr>\n",
       "    <tr>\n",
       "      <th>max</th>\n",
       "      <td>187100.000000</td>\n",
       "      <td>2017.0</td>\n",
       "    </tr>\n",
       "  </tbody>\n",
       "</table>\n",
       "</div>"
      ],
      "text/plain": [
       "              Salary    Year\n",
       "count     377.000000   377.0\n",
       "mean    94872.000000  2017.0\n",
       "std     43112.357821     0.0\n",
       "min         0.000000  2017.0\n",
       "25%     56000.000000  2017.0\n",
       "50%     89000.000000  2017.0\n",
       "75%    119000.000000  2017.0\n",
       "max    187100.000000  2017.0"
      ]
     },
     "execution_count": 16,
     "metadata": {},
     "output_type": "execute_result"
    }
   ],
   "source": [
    "df.describe()"
   ]
  },
  {
   "cell_type": "code",
   "execution_count": 19,
   "metadata": {
    "scrolled": true
   },
   "outputs": [
    {
     "data": {
      "text/plain": [
       "63000"
      ]
     },
     "execution_count": 19,
     "metadata": {},
     "output_type": "execute_result"
    }
   ],
   "source": [
    "119000 - 56000"
   ]
  },
  {
   "cell_type": "code",
   "execution_count": 20,
   "metadata": {},
   "outputs": [
    {
     "data": {
      "text/plain": [
       "94500.0"
      ]
     },
     "execution_count": 20,
     "metadata": {},
     "output_type": "execute_result"
    }
   ],
   "source": [
    "1.5*63000"
   ]
  },
  {
   "cell_type": "code",
   "execution_count": 32,
   "metadata": {},
   "outputs": [
    {
     "data": {
      "text/html": [
       "<div>\n",
       "<style scoped>\n",
       "    .dataframe tbody tr th:only-of-type {\n",
       "        vertical-align: middle;\n",
       "    }\n",
       "\n",
       "    .dataframe tbody tr th {\n",
       "        vertical-align: top;\n",
       "    }\n",
       "\n",
       "    .dataframe thead th {\n",
       "        text-align: right;\n",
       "    }\n",
       "</style>\n",
       "<table border=\"1\" class=\"dataframe\">\n",
       "  <thead>\n",
       "    <tr style=\"text-align: right;\">\n",
       "      <th></th>\n",
       "      <th>dataset</th>\n",
       "      <th>x</th>\n",
       "      <th>y</th>\n",
       "    </tr>\n",
       "  </thead>\n",
       "  <tbody>\n",
       "    <tr>\n",
       "      <th>0</th>\n",
       "      <td>I</td>\n",
       "      <td>10.0</td>\n",
       "      <td>8.04</td>\n",
       "    </tr>\n",
       "    <tr>\n",
       "      <th>1</th>\n",
       "      <td>I</td>\n",
       "      <td>8.0</td>\n",
       "      <td>6.95</td>\n",
       "    </tr>\n",
       "    <tr>\n",
       "      <th>2</th>\n",
       "      <td>I</td>\n",
       "      <td>13.0</td>\n",
       "      <td>7.58</td>\n",
       "    </tr>\n",
       "    <tr>\n",
       "      <th>3</th>\n",
       "      <td>I</td>\n",
       "      <td>9.0</td>\n",
       "      <td>8.81</td>\n",
       "    </tr>\n",
       "    <tr>\n",
       "      <th>4</th>\n",
       "      <td>I</td>\n",
       "      <td>11.0</td>\n",
       "      <td>8.33</td>\n",
       "    </tr>\n",
       "  </tbody>\n",
       "</table>\n",
       "</div>"
      ],
      "text/plain": [
       "  dataset     x     y\n",
       "0       I  10.0  8.04\n",
       "1       I   8.0  6.95\n",
       "2       I  13.0  7.58\n",
       "3       I   9.0  8.81\n",
       "4       I  11.0  8.33"
      ]
     },
     "execution_count": 32,
     "metadata": {},
     "output_type": "execute_result"
    }
   ],
   "source": [
    "ans = sns.load_dataset(\"anscombe\")\n",
    "ans.head()"
   ]
  },
  {
   "cell_type": "code",
   "execution_count": 33,
   "metadata": {},
   "outputs": [
    {
     "ename": "SyntaxError",
     "evalue": "invalid syntax (<ipython-input-33-7726a6911195>, line 1)",
     "output_type": "error",
     "traceback": [
      "\u001b[1;36m  File \u001b[1;32m\"<ipython-input-33-7726a6911195>\"\u001b[1;36m, line \u001b[1;32m1\u001b[0m\n\u001b[1;33m    plt.boxplot(ans['dataset['IV']'], showmeans=True)\u001b[0m\n\u001b[1;37m                               ^\u001b[0m\n\u001b[1;31mSyntaxError\u001b[0m\u001b[1;31m:\u001b[0m invalid syntax\n"
     ]
    }
   ],
   "source": [
    "plt.boxplot(ans['dataset['IV']'], showmeans=True)\n",
    "plt.show()"
   ]
  },
  {
   "cell_type": "code",
   "execution_count": null,
   "metadata": {},
   "outputs": [],
   "source": []
  }
 ],
 "metadata": {
  "kernelspec": {
   "display_name": "Python 3",
   "language": "python",
   "name": "python3"
  },
  "language_info": {
   "codemirror_mode": {
    "name": "ipython",
    "version": 3
   },
   "file_extension": ".py",
   "mimetype": "text/x-python",
   "name": "python",
   "nbconvert_exporter": "python",
   "pygments_lexer": "ipython3",
   "version": "3.6.5"
  }
 },
 "nbformat": 4,
 "nbformat_minor": 2
}
